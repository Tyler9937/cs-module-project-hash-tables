{
 "cells": [
  {
   "cell_type": "markdown",
   "metadata": {},
   "source": [
    "## Day one Notes"
   ]
  },
  {
   "cell_type": "code",
   "execution_count": null,
   "metadata": {},
   "outputs": [],
   "source": [
    "data = [None, None, None, None, None, None, None, None]\n",
    "def my_hashin_fucnk(s):\n",
    "    string_bytes = s.encode()\n",
    "    total = 0\n",
    "\n",
    "    for b in string_bytes:\n",
    "        total += b\n",
    "    return total\n",
    "\n",
    "def get_slot(s):\n",
    "    hash_val = my_hashin_fucnk(s)\n",
    "    return hash_val % len(data)\n",
    "\n",
    "print(get_slot('beej'))"
   ]
  },
  {
   "cell_type": "code",
   "execution_count": null,
   "metadata": {},
   "outputs": [],
   "source": [
    "def put(key, value):\n",
    "    slot = get_slot(key)\n",
    "    data[slot] = value\n",
    "\n",
    "put('beej', 3490)\n",
    "data"
   ]
  },
  {
   "cell_type": "code",
   "execution_count": null,
   "metadata": {},
   "outputs": [],
   "source": [
    "def get(key):\n",
    "    slot = get_slot(key)\n",
    "    value = data[slot]\n",
    "    return value \n",
    "get(\"beej\")"
   ]
  },
  {
   "cell_type": "code",
   "execution_count": null,
   "metadata": {},
   "outputs": [],
   "source": [
    "def delete(key):\n",
    "    put(key, None)\n",
    "\n",
    "delete('beej')"
   ]
  },
  {
   "cell_type": "code",
   "execution_count": null,
   "metadata": {},
   "outputs": [],
   "source": [
    "#!/usr/bin/env python\n",
    "# encoding: utf-8\n",
    "\n",
    "def hash_djb2(s):                                                                                                                                \n",
    "    hash = 5381\n",
    "    for x in s:\n",
    "        hash = (( hash << 5) + hash) + ord(x)\n",
    "    return hash & 0xFFFFFFFF\n",
    "\n",
    "\n",
    "hex(hash_djb2(u'hello world, 世界'))  # '0xa6bd702fL'"
   ]
  },
  {
   "cell_type": "code",
   "execution_count": null,
   "metadata": {},
   "outputs": [],
   "source": [
    "# white board with andrew\n",
    "data = [85, 46, 27, 81, 94, 9, 27, 38, 43, 99, 37, 63, 31, 42, 14]\n",
    "\n",
    "for number in data:\n",
    "\n",
    "    if number % 3 == 0:\n",
    "        print(number)"
   ]
  },
  {
   "cell_type": "code",
   "execution_count": null,
   "metadata": {},
   "outputs": [],
   "source": [
    "# working model for hackerrank standup\n",
    "def substring(s1, s2):\n",
    "    if len(s1) < len(s2):\n",
    "        small_str = s1\n",
    "        large_str = s2\n",
    "    else:\n",
    "        small_str = s2\n",
    "        large_str = s1\n",
    "\n",
    "    off_switch = True\n",
    "    for char in small_str:\n",
    "        if char in large_str:\n",
    "            print('YES')\n",
    "            return 'YES'\n",
    "            off_switch = False\n",
    "            break\n",
    "    \n",
    "    if off_switch == True:\n",
    "        print('NO')\n",
    "        return 'NO'\n",
    "    \n",
    "\n",
    "substring('hello', 'world')"
   ]
  },
  {
   "cell_type": "markdown",
   "metadata": {},
   "source": [
    "## Day Two Notes"
   ]
  },
  {
   "cell_type": "code",
   "execution_count": null,
   "metadata": {},
   "outputs": [],
   "source": [
    "class HashTableEntry:\n",
    "    \"\"\"\n",
    "    Linked List hash table key/value pair.\n",
    "    \"\"\"\n",
    "    def __init__(self, key, value):\n",
    "        self.key = key\n",
    "        self.value = value\n",
    "        self.next = None\n",
    "​\n",
    "    def __repr__(self):\n",
    "        return f'HashTableEntry({repr(self.key)},{repr(self.value)})'\n",
    "​\n",
    "data = [None] * 8\n",
    "​\n",
    "def my_hashing_function(s):\n",
    "    string_bytes = s.encode()\n",
    "​\n",
    "    total = 0\n",
    "​\n",
    "    for b in string_bytes:\n",
    "        total += b\n",
    "​\n",
    "    return total\n",
    "​\n",
    "def get_slot(s):\n",
    "    hash_val = my_hashing_function(s)\n",
    "    return hash_val % len(data)\n",
    "​\n",
    "def get(key):\n",
    "    slot = get_slot(key)\n",
    "    hash_entry = data[slot]\n",
    "​\n",
    "    if hash_entry is not None:\n",
    "        return hash_entry.value\n",
    "​\n",
    "    return None\n",
    "​\n",
    "def put(key, value):\n",
    "    slot = get_slot(key)\n",
    "    data[slot] = HashTableEntry(key, value)\n",
    "​\n",
    "def delete(key):\n",
    "    put(key, None)\n",
    "​\n",
    "#print(get_slot(\"☠ arr\"))\n",
    "#print(get_slot(\"beej\"))\n",
    "#print(get_slot(\"foo\"))\n",
    "#print(get_slot(\"bar\"))\n",
    "​\n",
    "put(\"beej\", 3490)\n",
    "put(\"foo\", 999)\n",
    "​\n",
    "#print(data)\n",
    "​\n",
    "print(get(\"beej\"))\n",
    "#print(get(\"foo\"))\n",
    "print(get(\"bar\"))"
   ]
  },
  {
   "cell_type": "code",
   "execution_count": null,
   "metadata": {},
   "outputs": [],
   "source": [
    "class Node:\n",
    "    def __init__(self, value):\n",
    "        self.value = value\n",
    "        self.next = None\n",
    "\n",
    "class LinkedList:\n",
    "    def __init__(self):\n",
    "        self.head = None\n",
    "\n",
    "    def __str__(self):\n",
    "        pass\n",
    "\n",
    "    def insert_at_head(self, node):\n",
    "        node.next = self.head\n",
    "        self.head = node\n",
    "\n",
    "    def find(self, value);\n",
    "        cur = self.head\n",
    "        while cur.value is not None:\n",
    "            if cur.value == value:\n",
    "                return cur\n",
    "            \n",
    "            cur = cur.next\n",
    "\n",
    "        return None\n",
    "\n",
    "    def delete(self, value):\n",
    "        cur = self.head\n",
    "        # case if value is in head\n",
    "        if cur.value == value:\n",
    "            self.head = self.head.next\n",
    "            return cur\n",
    "        \n",
    "        # general case\n",
    "        prev = cur\n",
    "        cur = cur.next\n",
    "\n",
    "        while cur is not None:\n",
    "\n",
    "\n",
    "            if cur.value == value:\n",
    "                prev.next = cur.next\n",
    "                return cur\n",
    "            else:\n",
    "                prev = prev.next\n",
    "                cur = cur.next\n",
    "        \n",
    "        return None\n",
    "\n",
    "if __name__ == '__main__':\n",
    "    ll = LinkedList()\n",
    "    ll.insert_at_head(Node(11))"
   ]
  },
  {
   "cell_type": "code",
   "execution_count": null,
   "metadata": {},
   "outputs": [],
   "source": []
  }
 ],
 "metadata": {
  "language_info": {
   "codemirror_mode": {
    "name": "ipython",
    "version": 3
   },
   "file_extension": ".py",
   "mimetype": "text/x-python",
   "name": "python",
   "nbconvert_exporter": "python",
   "pygments_lexer": "ipython3",
   "version": "3.8.0-final"
  },
  "orig_nbformat": 2,
  "kernelspec": {
   "name": "python38064bit56cb70954e6644bbb37d271203688404",
   "display_name": "Python 3.8.0 64-bit"
  }
 },
 "nbformat": 4,
 "nbformat_minor": 2
}